{
 "cells": [
  {
   "cell_type": "code",
   "execution_count": 1,
   "id": "written-racing",
   "metadata": {},
   "outputs": [],
   "source": [
    "import os\n",
    "import cv2\n",
    "import numpy as np\n",
    "from sklearn import preprocessing"
   ]
  },
  {
   "cell_type": "code",
   "execution_count": 2,
   "id": "quarterly-context",
   "metadata": {},
   "outputs": [],
   "source": [
    "D = 48*48\n",
    "\n",
    "categories = ['angry', 'disgust', 'fear', 'happy', 'neutral', 'sad', 'surprise']\n",
    "\n",
    "train_dir = 'FER2013/train'\n",
    "test_dir = 'FER2013/test'"
   ]
  },
  {
   "cell_type": "code",
   "execution_count": 3,
   "id": "senior-stress",
   "metadata": {},
   "outputs": [],
   "source": [
    "def build_list(dir, categories):\n",
    "    im_list = []\n",
    "    lb_list = []\n",
    "    for category in categories:\n",
    "        path = os.path.join(dir, category)\n",
    "\n",
    "        for img in os.listdir(path):\n",
    "            img_path = os.path.join(path, img)\n",
    "            im_list.append(img_path)\n",
    "            lb_list.append(category)\n",
    "\n",
    "    return im_list, lb_list"
   ]
  },
  {
   "cell_type": "code",
   "execution_count": 4,
   "id": "different-fever",
   "metadata": {},
   "outputs": [],
   "source": [
    "def vectorize_img(imgPath):\n",
    "    rgb = cv2.imread(imgPath)\n",
    "    img = cv2.resize(rgb, (48, 48))\n",
    "    imGray = cv2.cvtColor(img, cv2.COLOR_BGR2GRAY)\n",
    "    imVec = imGray.reshape(1, D)\n",
    "    return imVec"
   ]
  },
  {
   "cell_type": "code",
   "execution_count": 5,
   "id": "bibliographic-silver",
   "metadata": {},
   "outputs": [],
   "source": [
    "def build_data_matrix(h, w, im_list, lb_list):\n",
    "    X_full = np.zeros((h, w))\n",
    "    lb = preprocessing.LabelEncoder()\n",
    "    y = lb.fit_transform(lb_list)\n",
    "    y_full = y.reshape(-1, 1)\n",
    "\n",
    "    for i in range(len(im_list)):\n",
    "        X_full[i, :] = vectorize_img(im_list[i])\n",
    "\n",
    "    return X_full, y_full"
   ]
  },
  {
   "cell_type": "code",
   "execution_count": 6,
   "id": "close-heaven",
   "metadata": {},
   "outputs": [],
   "source": [
    "im_train_list, lb_train_list = build_list(train_dir, categories)\n",
    "im_test_list, lb_test_list = build_list(test_dir, categories)"
   ]
  },
  {
   "cell_type": "code",
   "execution_count": 7,
   "id": "placed-overhead",
   "metadata": {},
   "outputs": [],
   "source": [
    "h_train = len(im_train_list)\n",
    "h_test = len(im_test_list)\n",
    "w = D\n",
    "\n",
    "X_train, y_train = build_data_matrix(h_train, w, im_train_list, lb_train_list)\n",
    "X_test, y_test = build_data_matrix(h_test, w, im_test_list, lb_test_list)"
   ]
  },
  {
   "cell_type": "code",
   "execution_count": 8,
   "id": "intermediate-brief",
   "metadata": {},
   "outputs": [],
   "source": [
    "y_train = y_train.reshape(-1,1)\n",
    "y_test = y_test.reshape(-1,1)"
   ]
  },
  {
   "cell_type": "code",
   "execution_count": 9,
   "id": "bearing-creek",
   "metadata": {},
   "outputs": [],
   "source": [
    "# export file csv\n",
    "# train_data = np.concatenate((X_train, y_train), axis=1)\n",
    "# train_data.shape\n",
    "# import pandas as pd\n",
    "# df = pd.DataFrame(data=train_data)\n",
    "# df.to_csv('train_data.csv')"
   ]
  },
  {
   "cell_type": "code",
   "execution_count": 10,
   "id": "higher-pizza",
   "metadata": {},
   "outputs": [],
   "source": [
    "#Shuffle the dataset\n",
    "from sklearn.utils import shuffle\n",
    "\n",
    "X_train, y_train = shuffle(X_train, y_train, random_state=42)\n",
    "X_test, y_test = shuffle(X_test, y_test, random_state=42)"
   ]
  },
  {
   "cell_type": "code",
   "execution_count": 11,
   "id": "acting-holly",
   "metadata": {},
   "outputs": [],
   "source": [
    "from time import time\n",
    "from sklearn.model_selection import train_test_split\n",
    "from sklearn.metrics import classification_report\n",
    "from sklearn.metrics import confusion_matrix\n",
    "from sklearn.decomposition import PCA\n",
    "from sklearn.svm import SVC"
   ]
  },
  {
   "cell_type": "code",
   "execution_count": 12,
   "id": "silver-brave",
   "metadata": {},
   "outputs": [],
   "source": [
    "#X_train, X_test, y_train, y_test = train_test_split(X, y, test_size=0.25, random_state=42)"
   ]
  },
  {
   "cell_type": "code",
   "execution_count": 13,
   "id": "dress-review",
   "metadata": {},
   "outputs": [
    {
     "name": "stdout",
     "output_type": "stream",
     "text": [
      "done in 9.566s\n"
     ]
    }
   ],
   "source": [
    "t0 = time()\n",
    "pca = PCA(n_components=150, svd_solver='randomized', whiten=True).fit(X_train)\n",
    "print(\"done in %0.3fs\" % (time() - t0))"
   ]
  },
  {
   "cell_type": "code",
   "execution_count": 14,
   "id": "plastic-cookbook",
   "metadata": {},
   "outputs": [
    {
     "name": "stdout",
     "output_type": "stream",
     "text": [
      "done in 0.907s\n"
     ]
    }
   ],
   "source": [
    "t0 = time()\n",
    "X_train_pca = pca.transform(X_train)\n",
    "X_test_pca = pca.transform(X_test)\n",
    "print(\"done in %0.3fs\" % (time() - t0))"
   ]
  },
  {
   "cell_type": "code",
   "execution_count": 15,
   "id": "russian-equality",
   "metadata": {},
   "outputs": [
    {
     "name": "stderr",
     "output_type": "stream",
     "text": [
      "c:\\users\\asus\\appdata\\local\\programs\\python\\python39\\lib\\site-packages\\sklearn\\utils\\validation.py:63: DataConversionWarning: A column-vector y was passed when a 1d array was expected. Please change the shape of y to (n_samples, ), for example using ravel().\n",
      "  return f(*args, **kwargs)\n"
     ]
    },
    {
     "name": "stdout",
     "output_type": "stream",
     "text": [
      "done in 488.319s\n"
     ]
    }
   ],
   "source": [
    "# Train a SVM classification model\n",
    "\n",
    "t0 = time()\n",
    "clf = SVC(kernel='rbf', C=1000, gamma='scale')\n",
    "clf = clf.fit(X_train_pca, y_train)\n",
    "print(\"done in %0.3fs\" % (time() - t0))"
   ]
  },
  {
   "cell_type": "code",
   "execution_count": 16,
   "id": "complete-absence",
   "metadata": {},
   "outputs": [
    {
     "data": {
      "text/plain": [
       "0.48969384662018794"
      ]
     },
     "execution_count": 16,
     "metadata": {},
     "output_type": "execute_result"
    }
   ],
   "source": [
    "clf.score(X_test_pca, y_test)"
   ]
  },
  {
   "cell_type": "code",
   "execution_count": null,
   "id": "aggregate-batch",
   "metadata": {},
   "outputs": [],
   "source": [
    "import joblib\n",
    "joblib.dump(pca, 'pca1.joblib')\n",
    "joblib.dump(clf, 'svm1.joblib')"
   ]
  }
 ],
 "metadata": {
  "kernelspec": {
   "display_name": "Python 3.11.0 64-bit",
   "language": "python",
   "name": "python3"
  },
  "language_info": {
   "codemirror_mode": {
    "name": "ipython",
    "version": 3
   },
   "file_extension": ".py",
   "mimetype": "text/x-python",
   "name": "python",
   "nbconvert_exporter": "python",
   "pygments_lexer": "ipython3",
   "version": "3.11.0"
  },
  "vscode": {
   "interpreter": {
    "hash": "318f2c383d48220c821fefd227250c35bb828f95042f5889a5ad1704b1baf79c"
   }
  }
 },
 "nbformat": 4,
 "nbformat_minor": 5
}
